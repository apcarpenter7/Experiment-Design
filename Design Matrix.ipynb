{
 "cells": [
  {
   "cell_type": "code",
   "execution_count": 1,
   "metadata": {},
   "outputs": [],
   "source": [
    "import numpy as np\n",
    "from itertools import combinations_with_replacement\n",
    "from itertools import product"
   ]
  },
  {
   "cell_type": "code",
   "execution_count": 2,
   "metadata": {},
   "outputs": [],
   "source": [
    "#Assumes a design matrix with n factors; orthogonal design of 2 factors per level plus a midpoint (-1, 0, 1)\n",
    "\n",
    "# ***TO DO***\n",
    "# 1. Add categorical variable functionality\n",
    "# 2. Add more flexibility for greater than 3 design points? \n",
    "\n",
    "def initial_matrix(num_factors):\n",
    "    \n",
    "    #Itertools product gets every combination of -1, 0, 1 for the number of factors the the experiment\n",
    "    #Then cast to a numpy array\n",
    "    \n",
    "    return np.array(list(product(['-1', '0', '1'], repeat = num_factors)), dtype = 'float64')"
   ]
  },
  {
   "cell_type": "code",
   "execution_count": 3,
   "metadata": {},
   "outputs": [
    {
     "data": {
      "text/plain": [
       "array([[-1., -1., -1.],\n",
       "       [-1., -1.,  0.],\n",
       "       [-1., -1.,  1.],\n",
       "       [-1.,  0., -1.],\n",
       "       [-1.,  0.,  0.],\n",
       "       [-1.,  0.,  1.],\n",
       "       [-1.,  1., -1.],\n",
       "       [-1.,  1.,  0.],\n",
       "       [-1.,  1.,  1.],\n",
       "       [ 0., -1., -1.],\n",
       "       [ 0., -1.,  0.],\n",
       "       [ 0., -1.,  1.],\n",
       "       [ 0.,  0., -1.],\n",
       "       [ 0.,  0.,  0.],\n",
       "       [ 0.,  0.,  1.],\n",
       "       [ 0.,  1., -1.],\n",
       "       [ 0.,  1.,  0.],\n",
       "       [ 0.,  1.,  1.],\n",
       "       [ 1., -1., -1.],\n",
       "       [ 1., -1.,  0.],\n",
       "       [ 1., -1.,  1.],\n",
       "       [ 1.,  0., -1.],\n",
       "       [ 1.,  0.,  0.],\n",
       "       [ 1.,  0.,  1.],\n",
       "       [ 1.,  1., -1.],\n",
       "       [ 1.,  1.,  0.],\n",
       "       [ 1.,  1.,  1.]])"
      ]
     },
     "execution_count": 3,
     "metadata": {},
     "output_type": "execute_result"
    }
   ],
   "source": [
    "a = initial_matrix(3)\n",
    "a"
   ]
  },
  {
   "cell_type": "code",
   "execution_count": 4,
   "metadata": {},
   "outputs": [],
   "source": [
    "#Add the desired interaction effects. Interactions is a list of tuples with desired variable inteactions\n",
    "\n",
    "# ***TO DO***\n",
    "# 1. Add a case for no interactions\n",
    "\n",
    "def interactions(design_matrix, interactions):\n",
    "    \n",
    "    #Use if all interaction effects are desired\n",
    "    if interactions == 'FULL':\n",
    "        \n",
    "        #Gets all possible 2 way interactions\n",
    "        effects = list(combinations_with_replacement(range(design_matrix.shape[1]), 2))\n",
    "        \n",
    "        #Loop through each set of interactions effects\n",
    "        for ind in effects:\n",
    "            \n",
    "            #Compute the interaction then make a column vector \n",
    "            interaction_col = np.array(design_matrix[:, ind[0]] * design_matrix[:, ind[1]]).reshape(design_matrix.shape[0], 1)\n",
    "            \n",
    "            #Add to the end of the design matrix as a new column\n",
    "            design_matrix = np.hstack((design_matrix, interaction_col))\n",
    "            \n",
    "    else:\n",
    "        #Same procedure as above but with user specified interactions\n",
    "        for ind in interactions:\n",
    "            interaction_col = np.array(design_matrix[:, ind[0]] * design_matrix[:, ind[1]]).reshape(design_matrix.shape[0], 1)\n",
    "            design_matrix = np.hstack((design_matrix, interaction_col))\n",
    "     \n",
    "    #Add intercept to the design matrix\n",
    "    design_matrix = np.hstack((design_matrix, np.ones((design_matrix.shape[0], 1))))\n",
    "  \n",
    "    return design_matrix\n",
    "            "
   ]
  },
  {
   "cell_type": "code",
   "execution_count": 5,
   "metadata": {},
   "outputs": [
    {
     "data": {
      "text/plain": [
       "array([[-1., -1., -1.,  1.,  1.,  1.,  1.,  1.,  1.,  1.],\n",
       "       [-1., -1.,  0.,  1.,  1., -0.,  1., -0.,  0.,  1.],\n",
       "       [-1., -1.,  1.,  1.,  1., -1.,  1., -1.,  1.,  1.],\n",
       "       [-1.,  0., -1.,  1., -0.,  1.,  0., -0.,  1.,  1.],\n",
       "       [-1.,  0.,  0.,  1., -0., -0.,  0.,  0.,  0.,  1.],\n",
       "       [-1.,  0.,  1.,  1., -0., -1.,  0.,  0.,  1.,  1.],\n",
       "       [-1.,  1., -1.,  1., -1.,  1.,  1., -1.,  1.,  1.],\n",
       "       [-1.,  1.,  0.,  1., -1., -0.,  1.,  0.,  0.,  1.],\n",
       "       [-1.,  1.,  1.,  1., -1., -1.,  1.,  1.,  1.,  1.],\n",
       "       [ 0., -1., -1.,  0., -0., -0.,  1.,  1.,  1.,  1.],\n",
       "       [ 0., -1.,  0.,  0., -0.,  0.,  1., -0.,  0.,  1.],\n",
       "       [ 0., -1.,  1.,  0., -0.,  0.,  1., -1.,  1.,  1.],\n",
       "       [ 0.,  0., -1.,  0.,  0., -0.,  0., -0.,  1.,  1.],\n",
       "       [ 0.,  0.,  0.,  0.,  0.,  0.,  0.,  0.,  0.,  1.],\n",
       "       [ 0.,  0.,  1.,  0.,  0.,  0.,  0.,  0.,  1.,  1.],\n",
       "       [ 0.,  1., -1.,  0.,  0., -0.,  1., -1.,  1.,  1.],\n",
       "       [ 0.,  1.,  0.,  0.,  0.,  0.,  1.,  0.,  0.,  1.],\n",
       "       [ 0.,  1.,  1.,  0.,  0.,  0.,  1.,  1.,  1.,  1.],\n",
       "       [ 1., -1., -1.,  1., -1., -1.,  1.,  1.,  1.,  1.],\n",
       "       [ 1., -1.,  0.,  1., -1.,  0.,  1., -0.,  0.,  1.],\n",
       "       [ 1., -1.,  1.,  1., -1.,  1.,  1., -1.,  1.,  1.],\n",
       "       [ 1.,  0., -1.,  1.,  0., -1.,  0., -0.,  1.,  1.],\n",
       "       [ 1.,  0.,  0.,  1.,  0.,  0.,  0.,  0.,  0.,  1.],\n",
       "       [ 1.,  0.,  1.,  1.,  0.,  1.,  0.,  0.,  1.,  1.],\n",
       "       [ 1.,  1., -1.,  1.,  1., -1.,  1., -1.,  1.,  1.],\n",
       "       [ 1.,  1.,  0.,  1.,  1.,  0.,  1.,  0.,  0.,  1.],\n",
       "       [ 1.,  1.,  1.,  1.,  1.,  1.,  1.,  1.,  1.,  1.]])"
      ]
     },
     "execution_count": 5,
     "metadata": {},
     "output_type": "execute_result"
    }
   ],
   "source": [
    "interactions(a, 'FULL')"
   ]
  },
  {
   "cell_type": "code",
   "execution_count": 6,
   "metadata": {},
   "outputs": [
    {
     "data": {
      "text/plain": [
       "array([[-1., -1., -1.,  1.,  1.],\n",
       "       [-1., -1.,  0., -0.,  1.],\n",
       "       [-1., -1.,  1., -1.,  1.],\n",
       "       [-1.,  0., -1., -0.,  1.],\n",
       "       [-1.,  0.,  0.,  0.,  1.],\n",
       "       [-1.,  0.,  1.,  0.,  1.],\n",
       "       [-1.,  1., -1., -1.,  1.],\n",
       "       [-1.,  1.,  0.,  0.,  1.],\n",
       "       [-1.,  1.,  1.,  1.,  1.],\n",
       "       [ 0., -1., -1.,  1.,  1.],\n",
       "       [ 0., -1.,  0., -0.,  1.],\n",
       "       [ 0., -1.,  1., -1.,  1.],\n",
       "       [ 0.,  0., -1., -0.,  1.],\n",
       "       [ 0.,  0.,  0.,  0.,  1.],\n",
       "       [ 0.,  0.,  1.,  0.,  1.],\n",
       "       [ 0.,  1., -1., -1.,  1.],\n",
       "       [ 0.,  1.,  0.,  0.,  1.],\n",
       "       [ 0.,  1.,  1.,  1.,  1.],\n",
       "       [ 1., -1., -1.,  1.,  1.],\n",
       "       [ 1., -1.,  0., -0.,  1.],\n",
       "       [ 1., -1.,  1., -1.,  1.],\n",
       "       [ 1.,  0., -1., -0.,  1.],\n",
       "       [ 1.,  0.,  0.,  0.,  1.],\n",
       "       [ 1.,  0.,  1.,  0.,  1.],\n",
       "       [ 1.,  1., -1., -1.,  1.],\n",
       "       [ 1.,  1.,  0.,  0.,  1.],\n",
       "       [ 1.,  1.,  1.,  1.,  1.]])"
      ]
     },
     "execution_count": 6,
     "metadata": {},
     "output_type": "execute_result"
    }
   ],
   "source": [
    "interactions(a, [(1, 2)])"
   ]
  },
  {
   "cell_type": "code",
   "execution_count": null,
   "metadata": {},
   "outputs": [],
   "source": []
  }
 ],
 "metadata": {
  "kernelspec": {
   "display_name": "Python 3",
   "language": "python",
   "name": "python3"
  },
  "language_info": {
   "codemirror_mode": {
    "name": "ipython",
    "version": 3
   },
   "file_extension": ".py",
   "mimetype": "text/x-python",
   "name": "python",
   "nbconvert_exporter": "python",
   "pygments_lexer": "ipython3",
   "version": "3.8.5"
  }
 },
 "nbformat": 4,
 "nbformat_minor": 4
}
