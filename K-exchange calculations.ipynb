{
 "cells": [
  {
   "cell_type": "markdown",
   "metadata": {},
   "source": [
    "Various calculations for the K-exchange algorithm"
   ]
  },
  {
   "cell_type": "code",
   "execution_count": 2,
   "metadata": {},
   "outputs": [],
   "source": [
    "import numpy as np"
   ]
  },
  {
   "cell_type": "markdown",
   "metadata": {},
   "source": [
    "Three variables with three levels, full interactions to test functions on"
   ]
  },
  {
   "cell_type": "code",
   "execution_count": 8,
   "metadata": {},
   "outputs": [],
   "source": [
    "a = np.array([[-1., -1., -1.,  1.,  1.,  1.,  1.,  1.,  1.,  1.],\n",
    "       [-1., -1.,  0.,  1.,  1., -0.,  1., -0.,  0.,  1.],\n",
    "       [-1., -1.,  1.,  1.,  1., -1.,  1., -1.,  1.,  1.],\n",
    "       [-1.,  0., -1.,  1., -0.,  1.,  0., -0.,  1.,  1.],\n",
    "       [-1.,  0.,  0.,  1., -0., -0.,  0.,  0.,  0.,  1.],\n",
    "       [-1.,  0.,  1.,  1., -0., -1.,  0.,  0.,  1.,  1.],\n",
    "       [-1.,  1., -1.,  1., -1.,  1.,  1., -1.,  1.,  1.],\n",
    "       [-1.,  1.,  0.,  1., -1., -0.,  1.,  0.,  0.,  1.],\n",
    "       [-1.,  1.,  1.,  1., -1., -1.,  1.,  1.,  1.,  1.],\n",
    "       [ 0., -1., -1.,  0., -0., -0.,  1.,  1.,  1.,  1.],\n",
    "       [ 0., -1.,  0.,  0., -0.,  0.,  1., -0.,  0.,  1.],\n",
    "       [ 0., -1.,  1.,  0., -0.,  0.,  1., -1.,  1.,  1.],\n",
    "       [ 0.,  0., -1.,  0.,  0., -0.,  0., -0.,  1.,  1.],\n",
    "       [ 0.,  0.,  0.,  0.,  0.,  0.,  0.,  0.,  0.,  1.],\n",
    "       [ 0.,  0.,  1.,  0.,  0.,  0.,  0.,  0.,  1.,  1.],\n",
    "       [ 0.,  1., -1.,  0.,  0., -0.,  1., -1.,  1.,  1.],\n",
    "       [ 0.,  1.,  0.,  0.,  0.,  0.,  1.,  0.,  0.,  1.],\n",
    "       [ 0.,  1.,  1.,  0.,  0.,  0.,  1.,  1.,  1.,  1.],\n",
    "       [ 1., -1., -1.,  1., -1., -1.,  1.,  1.,  1.,  1.],\n",
    "       [ 1., -1.,  0.,  1., -1.,  0.,  1., -0.,  0.,  1.],\n",
    "       [ 1., -1.,  1.,  1., -1.,  1.,  1., -1.,  1.,  1.],\n",
    "       [ 1.,  0., -1.,  1.,  0., -1.,  0., -0.,  1.,  1.],\n",
    "       [ 1.,  0.,  0.,  1.,  0.,  0.,  0.,  0.,  0.,  1.],\n",
    "       [ 1.,  0.,  1.,  1.,  0.,  1.,  0.,  0.,  1.,  1.],\n",
    "       [ 1.,  1., -1.,  1.,  1., -1.,  1., -1.,  1.,  1.],\n",
    "       [ 1.,  1.,  0.,  1.,  1.,  0.,  1.,  0.,  0.,  1.],\n",
    "       [ 1.,  1.,  1.,  1.,  1.,  1.,  1.,  1.,  1.,  1.]])"
   ]
  },
  {
   "cell_type": "markdown",
   "metadata": {},
   "source": [
    "Variance for a single design point <br> \n",
    "<br>\n",
    "$d(\\chi_x) = \\chi^{'}_x * (X^{'}_nX_n)^{-1} * \\chi_x $"
   ]
  },
  {
   "cell_type": "code",
   "execution_count": 14,
   "metadata": {},
   "outputs": [],
   "source": [
    "def variance_singlePoint(point, design_matrix):\n",
    "    \n",
    "    return point.T @ np.linalg.inv(design_matrix.T @ design_matrix) @ point"
   ]
  },
  {
   "cell_type": "markdown",
   "metadata": {},
   "source": [
    "Test this function on the variance of the first row of a"
   ]
  },
  {
   "cell_type": "code",
   "execution_count": 15,
   "metadata": {},
   "outputs": [
    {
     "data": {
      "text/plain": [
       "0.5092592592592593"
      ]
     },
     "execution_count": 15,
     "metadata": {},
     "output_type": "execute_result"
    }
   ],
   "source": [
    "variance_singlePoint(a[0, :], a)"
   ]
  },
  {
   "cell_type": "markdown",
   "metadata": {},
   "source": [
    "Combined variance function of two design points <br> \n",
    "<br>\n",
    "$d(\\chi_i, \\chi_j) = \\chi^{'}_i * (X^{'}_nX_n)^{-1} * \\chi_j  = \\chi^{'}_j * (X^{'}_nX_n)^{-1} * \\chi_i$"
   ]
  },
  {
   "cell_type": "code",
   "execution_count": 16,
   "metadata": {},
   "outputs": [],
   "source": [
    "def variance_combined(point_i, point_j, design_matrix):\n",
    "    return point_i.T @ np.linalg.inv(design_matrix.T @ design_matrix) @ point_j"
   ]
  },
  {
   "cell_type": "markdown",
   "metadata": {},
   "source": [
    "Test this function with first and second rows of a"
   ]
  },
  {
   "cell_type": "code",
   "execution_count": 17,
   "metadata": {},
   "outputs": [
    {
     "data": {
      "text/plain": [
       "0.23148148148148145"
      ]
     },
     "execution_count": 17,
     "metadata": {},
     "output_type": "execute_result"
    }
   ],
   "source": [
    "variance_combined(a[0, :], a[1, :], a)"
   ]
  },
  {
   "cell_type": "markdown",
   "metadata": {},
   "source": [
    "Check the equality part of the equation by swapping rows 1 and 2"
   ]
  },
  {
   "cell_type": "code",
   "execution_count": 18,
   "metadata": {},
   "outputs": [
    {
     "data": {
      "text/plain": [
       "True"
      ]
     },
     "execution_count": 18,
     "metadata": {},
     "output_type": "execute_result"
    }
   ],
   "source": [
    "variance_combined(a[0, :], a[1, :], a) == variance_combined(a[1, :], a[0, :], a)"
   ]
  },
  {
   "cell_type": "markdown",
   "metadata": {},
   "source": [
    "Define the delta function\n",
    "<br>\n",
    "<br>\n",
    "$\\Delta(\\chi_i, \\chi_j) = d(\\chi_j) - [d(\\chi_i)d(\\chi_j) - (d(\\chi_i, \\chi_j))^2] - d(\\chi_i)$"
   ]
  },
  {
   "cell_type": "code",
   "execution_count": 22,
   "metadata": {},
   "outputs": [],
   "source": [
    "def delta(d_i, d_j, d_comb):\n",
    "    return d_j - (d_i * d_j - d_comb ** 2) - d_i"
   ]
  },
  {
   "cell_type": "code",
   "execution_count": 27,
   "metadata": {},
   "outputs": [
    {
     "data": {
      "text/plain": [
       "-0.2875514403292182"
      ]
     },
     "execution_count": 27,
     "metadata": {},
     "output_type": "execute_result"
    }
   ],
   "source": [
    "d = delta(variance_singlePoint(a[0, :], a), variance_singlePoint(a[1, :], a), variance_combined(a[0, :], a[1, :], a))\n",
    "d"
   ]
  },
  {
   "cell_type": "markdown",
   "metadata": {},
   "source": [
    "Update the determinant\n",
    "<br>\n",
    "<br>\n",
    "$|X_{new}X_{new}| = |X_{old}X_{ol}| * (1 + \\Delta(\\chi_i, \\chi_j))$"
   ]
  },
  {
   "cell_type": "code",
   "execution_count": 25,
   "metadata": {},
   "outputs": [],
   "source": [
    "def update_det(current_det, delta_ij):\n",
    "    return current_det * (1 + delta_ij)"
   ]
  },
  {
   "cell_type": "code",
   "execution_count": 28,
   "metadata": {},
   "outputs": [
    {
     "data": {
      "text/plain": [
       "41872826879.9999"
      ]
     },
     "execution_count": 28,
     "metadata": {},
     "output_type": "execute_result"
    }
   ],
   "source": [
    "update_det(np.linalg.det(a.T @ a), d)"
   ]
  },
  {
   "cell_type": "markdown",
   "metadata": {},
   "source": [
    "K-Exchange algorithm background\n",
    "![alt text](k-exchange.jpg \"Title\")"
   ]
  },
  {
   "cell_type": "markdown",
   "metadata": {},
   "source": [
    "k-Exchange Pseudo Code\n",
    "![alt text](pcode.jpg \"Title\")"
   ]
  },
  {
   "cell_type": "code",
   "execution_count": null,
   "metadata": {},
   "outputs": [],
   "source": []
  }
 ],
 "metadata": {
  "kernelspec": {
   "display_name": "Python 3",
   "language": "python",
   "name": "python3"
  },
  "language_info": {
   "codemirror_mode": {
    "name": "ipython",
    "version": 3
   },
   "file_extension": ".py",
   "mimetype": "text/x-python",
   "name": "python",
   "nbconvert_exporter": "python",
   "pygments_lexer": "ipython3",
   "version": "3.8.5"
  }
 },
 "nbformat": 4,
 "nbformat_minor": 4
}
